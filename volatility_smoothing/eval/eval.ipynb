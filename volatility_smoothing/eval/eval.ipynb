{
 "cells": [
  {
   "cell_type": "markdown",
   "metadata": {},
   "source": [
    "# Evaluation"
   ]
  },
  {
   "cell_type": "code",
   "execution_count": 17,
   "metadata": {},
   "outputs": [],
   "source": [
    "import os, logging\n",
    "import json\n",
    "import subprocess\n",
    "from pathlib import Path\n",
    "import fnmatch"
   ]
  },
  {
   "cell_type": "markdown",
   "metadata": {},
   "source": [
    "## Setup"
   ]
  },
  {
   "cell_type": "markdown",
   "metadata": {},
   "source": [
    "### Persist Results"
   ]
  },
  {
   "cell_type": "code",
   "execution_count": 18,
   "metadata": {},
   "outputs": [],
   "source": [
    "storedir = None  # Set this to persist evaluation results"
   ]
  },
  {
   "cell_type": "code",
   "execution_count": 19,
   "metadata": {},
   "outputs": [],
   "source": [
    "if storedir is not None:\n",
    "    data_storedir = f\"{storedir}/data\"\n",
    "    Path(data_storedir).mkdir(exist_ok=True)\n",
    "else:\n",
    "    checkpoint_storedir = None\n",
    "    data_storedir = None\n",
    "    \n",
    "try:\n",
    "    job_id = os.environ['PBS_JOBID'].split('.pbs')[0]\n",
    "except KeyError:\n",
    "    job_id = 'local'"
   ]
  },
  {
   "cell_type": "code",
   "execution_count": 20,
   "metadata": {},
   "outputs": [],
   "source": [
    "logger = logging.getLogger('job')"
   ]
  },
  {
   "cell_type": "markdown",
   "metadata": {},
   "source": [
    "### Imports"
   ]
  },
  {
   "cell_type": "code",
   "execution_count": 21,
   "metadata": {},
   "outputs": [],
   "source": [
    "logger.info('Importing third-party packages ...')\n",
    "\n",
    "import torch\n",
    "\n",
    "from op_ds.gno.gno import GNOLayer, GNO\n",
    "from op_ds.gno.kernel import NonlinearKernelTransformWithSkip\n",
    "from op_ds.utils.fnn import FNN\n",
    "from volatility_smoothing.utils.train import Trainer\n",
    "from volatility_smoothing.utils.data import OptionsDataset"
   ]
  },
  {
   "cell_type": "markdown",
   "metadata": {},
   "source": [
    "### Device"
   ]
  },
  {
   "cell_type": "code",
   "execution_count": 22,
   "metadata": {},
   "outputs": [],
   "source": [
    "logger.info(f\"Defining device (torch.cuda.is_available()={torch.cuda.is_available()})\")\n",
    "device = torch.device(\"cuda:0\" if torch.cuda.is_available() else \"cpu\")\n",
    "\n",
    "logger.info(f'Running using device `{device}`')\n",
    "\n",
    "if device.type == 'cuda':\n",
    "    result = subprocess.run(['nvidia-smi'], stdout=subprocess.PIPE)\n",
    "    formatted_result = str(result.stdout).replace('\\\\n', '\\n').replace('\\\\t', '\\t')##\n",
    "\n",
    "    logger.info(formatted_result)\n",
    "    logger.info(f'Device count: {torch.cuda.device_count()}')\n",
    "    logger.info(f'Visible devices count: {os.environ[\"CUDA_VISIBLE_DEVICES\"]}')"
   ]
  },
  {
   "cell_type": "markdown",
   "metadata": {},
   "source": [
    "## Dataset"
   ]
  },
  {
   "cell_type": "code",
   "execution_count": 82,
   "metadata": {},
   "outputs": [],
   "source": [
    "data_dir = \"../data\"\n",
    "\n",
    "with open(f\"{data_dir}/fields.json\", 'r') as f:\n",
    "    fields = json.load(f)\n",
    "\n",
    "mapping = {\n",
    "    'option_type': fields.index('option_type'),\n",
    "    'time_to_maturity': fields.index('time_to_maturity'),\n",
    "    'log_moneyness': fields.index('log_moneyness'),\n",
    "    'implied_volatility': fields.index('implied_volatility_lbr'),\n",
    "    'bid': fields.index('bid'),\n",
    "    'ask': fields.index('ask'),\n",
    "    'discount_factor': fields.index('discount_factor'),\n",
    "    'underlying_forward': fields.index('underlying_forward')\n",
    "}\n",
    "\n",
    "dev_dir = f\"{data_dir}/dev\"\n",
    "\n",
    "\n",
    "def read_filepaths(dir):\n",
    "    return [f\"{dir}/{filename}\" for filename in fnmatch.filter(os.listdir(dir), '*.pt')]\n",
    "\n",
    "\n",
    "dev_dataset = OptionsDataset(read_filepaths(dev_dir), mapping, subsample=False)"
   ]
  },
  {
   "cell_type": "markdown",
   "metadata": {},
   "source": [
    "## Model and Optimizer"
   ]
  },
  {
   "cell_type": "markdown",
   "metadata": {},
   "source": [
    "### Instantiate"
   ]
  },
  {
   "cell_type": "code",
   "execution_count": 83,
   "metadata": {},
   "outputs": [],
   "source": [
    "in_channels = 1\n",
    "out_channels = 1\n",
    "channels = (in_channels, 16, 16, 16, out_channels)\n",
    "spatial_dim = 2\n",
    "gno_channels = 16\n",
    "hidden_channels = 64\n",
    "\n",
    "gno_layers = []\n",
    "\n",
    "for i in range(m := (len(channels) - 1)):\n",
    "    lifting = FNN.from_config((channels[i], hidden_channels, gno_channels), hidden_activation='gelu', batch_norm=False)\n",
    "    projection = None if i < m - 1 else FNN.from_config((gno_channels, hidden_channels, channels[i+1]), hidden_activation='gelu', batch_norm=False)\n",
    "    transform = NonlinearKernelTransformWithSkip(in_channels=gno_channels, out_channels=gno_channels, skip_channels=in_channels, spatial_dim=spatial_dim, hidden_channels=(hidden_channels, hidden_channels), hidden_activation='gelu', batch_norm=False)\n",
    "\n",
    "    if i == 0:\n",
    "        local_linear = False\n",
    "    else:\n",
    "        local_linear = True\n",
    "        \n",
    "    activation = torch.nn.GELU() if i < m - 1 else torch.nn.Softplus(beta=0.5)\n",
    "        \n",
    "    gno_layer = GNOLayer(gno_channels, transform=transform, local_linear=local_linear, local_bias=True,\n",
    "                         activation=activation, lifting=lifting, projection=projection)\n",
    "    gno_layers.append(gno_layer)\n",
    "    \n",
    "gno = GNO(*gno_layers, in_channels=in_channels).to(device)"
   ]
  },
  {
   "cell_type": "code",
   "execution_count": 84,
   "metadata": {},
   "outputs": [],
   "source": [
    "optimizer = torch.optim.AdamW(gno.parameters())"
   ]
  },
  {
   "cell_type": "markdown",
   "metadata": {},
   "source": [
    "### Load Checkpoint"
   ]
  },
  {
   "cell_type": "code",
   "execution_count": 85,
   "metadata": {},
   "outputs": [],
   "source": [
    "def load_checkpoint(model, optimizer, path):\n",
    "    checkpoint = torch.load(path, map_location=device)\n",
    "    model.load_state_dict(checkpoint['model'])\n",
    "    optimizer.load_state_dict(checkpoint['optimizer'])\n",
    "    logger.info(f\"Loaded checkpoint from {path}\")\n",
    "    return model, optimizer"
   ]
  },
  {
   "cell_type": "code",
   "execution_count": 86,
   "metadata": {},
   "outputs": [],
   "source": [
    "path = \"../train/store/9448705/checkpoints/checkpoint_final.pt\"\n",
    "gno, optimizer = load_checkpoint(gno, optimizer, path)"
   ]
  },
  {
   "cell_type": "markdown",
   "metadata": {},
   "source": [
    "## Evaluation"
   ]
  },
  {
   "cell_type": "code",
   "execution_count": 87,
   "metadata": {},
   "outputs": [],
   "source": [
    "step_r = 0.05\n",
    "step_z = 0.05\n",
    "subsample_size = 35\n",
    "training_io = Trainer(step_r=step_r, step_z=step_z)"
   ]
  },
  {
   "cell_type": "code",
   "execution_count": 88,
   "metadata": {},
   "outputs": [],
   "source": [
    "df_val, df_rel, df_fit = training_io.evaluate(gno, dev_dataset, device=device, storedir=storedir, logger=logger, step_r=step_r, step_z=step_z)"
   ]
  },
  {
   "cell_type": "code",
   "execution_count": 90,
   "metadata": {},
   "outputs": [
    {
     "data": {
      "text/html": [
       "<div>\n",
       "<style scoped>\n",
       "    .dataframe tbody tr th:only-of-type {\n",
       "        vertical-align: middle;\n",
       "    }\n",
       "\n",
       "    .dataframe tbody tr th {\n",
       "        vertical-align: top;\n",
       "    }\n",
       "\n",
       "    .dataframe thead th {\n",
       "        text-align: right;\n",
       "    }\n",
       "</style>\n",
       "<table border=\"1\" class=\"dataframe\">\n",
       "  <thead>\n",
       "    <tr style=\"text-align: right;\">\n",
       "      <th></th>\n",
       "      <th>mean</th>\n",
       "      <th>std</th>\n",
       "      <th>min</th>\n",
       "      <th>%05</th>\n",
       "      <th>%25</th>\n",
       "      <th>%50</th>\n",
       "      <th>%75</th>\n",
       "      <th>%95</th>\n",
       "      <th>max</th>\n",
       "    </tr>\n",
       "    <tr>\n",
       "      <th>quote_datetime</th>\n",
       "      <th></th>\n",
       "      <th></th>\n",
       "      <th></th>\n",
       "      <th></th>\n",
       "      <th></th>\n",
       "      <th></th>\n",
       "      <th></th>\n",
       "      <th></th>\n",
       "      <th></th>\n",
       "    </tr>\n",
       "  </thead>\n",
       "  <tbody>\n",
       "    <tr>\n",
       "      <th>2012-02-24 09:50:00</th>\n",
       "      <td>0.307599</td>\n",
       "      <td>0.374522</td>\n",
       "      <td>0.001840</td>\n",
       "      <td>0.030601</td>\n",
       "      <td>0.101431</td>\n",
       "      <td>0.189978</td>\n",
       "      <td>0.366928</td>\n",
       "      <td>0.911127</td>\n",
       "      <td>3.351730</td>\n",
       "    </tr>\n",
       "    <tr>\n",
       "      <th>2012-03-27 10:10:00</th>\n",
       "      <td>0.237303</td>\n",
       "      <td>0.264122</td>\n",
       "      <td>0.001482</td>\n",
       "      <td>0.014741</td>\n",
       "      <td>0.070680</td>\n",
       "      <td>0.153551</td>\n",
       "      <td>0.308814</td>\n",
       "      <td>0.731986</td>\n",
       "      <td>2.488052</td>\n",
       "    </tr>\n",
       "    <tr>\n",
       "      <th>2012-03-27 14:10:00</th>\n",
       "      <td>0.265702</td>\n",
       "      <td>0.306287</td>\n",
       "      <td>0.000155</td>\n",
       "      <td>0.010549</td>\n",
       "      <td>0.066785</td>\n",
       "      <td>0.172293</td>\n",
       "      <td>0.351501</td>\n",
       "      <td>0.775467</td>\n",
       "      <td>2.464123</td>\n",
       "    </tr>\n",
       "    <tr>\n",
       "      <th>2012-04-10 14:10:00</th>\n",
       "      <td>0.209695</td>\n",
       "      <td>0.232821</td>\n",
       "      <td>0.000409</td>\n",
       "      <td>0.008389</td>\n",
       "      <td>0.063442</td>\n",
       "      <td>0.143885</td>\n",
       "      <td>0.279517</td>\n",
       "      <td>0.674965</td>\n",
       "      <td>1.734750</td>\n",
       "    </tr>\n",
       "    <tr>\n",
       "      <th>2012-04-11 12:50:00</th>\n",
       "      <td>0.230648</td>\n",
       "      <td>0.241801</td>\n",
       "      <td>0.000039</td>\n",
       "      <td>0.013066</td>\n",
       "      <td>0.064616</td>\n",
       "      <td>0.142781</td>\n",
       "      <td>0.302760</td>\n",
       "      <td>0.703193</td>\n",
       "      <td>1.601363</td>\n",
       "    </tr>\n",
       "    <tr>\n",
       "      <th>2012-05-03 16:10:00</th>\n",
       "      <td>0.371304</td>\n",
       "      <td>0.713999</td>\n",
       "      <td>0.000173</td>\n",
       "      <td>0.011454</td>\n",
       "      <td>0.058635</td>\n",
       "      <td>0.167248</td>\n",
       "      <td>0.440043</td>\n",
       "      <td>1.335852</td>\n",
       "      <td>12.991895</td>\n",
       "    </tr>\n",
       "    <tr>\n",
       "      <th>2012-05-07 14:10:00</th>\n",
       "      <td>0.370161</td>\n",
       "      <td>0.750800</td>\n",
       "      <td>0.000538</td>\n",
       "      <td>0.014409</td>\n",
       "      <td>0.078295</td>\n",
       "      <td>0.197411</td>\n",
       "      <td>0.365035</td>\n",
       "      <td>1.155832</td>\n",
       "      <td>9.544945</td>\n",
       "    </tr>\n",
       "    <tr>\n",
       "      <th>2012-05-08 12:50:00</th>\n",
       "      <td>0.283818</td>\n",
       "      <td>0.394815</td>\n",
       "      <td>0.000103</td>\n",
       "      <td>0.015326</td>\n",
       "      <td>0.084501</td>\n",
       "      <td>0.176593</td>\n",
       "      <td>0.344320</td>\n",
       "      <td>0.837842</td>\n",
       "      <td>4.311754</td>\n",
       "    </tr>\n",
       "  </tbody>\n",
       "</table>\n",
       "</div>"
      ],
      "text/plain": [
       "                         mean       std       min       %05       %25  \\\n",
       "quote_datetime                                                          \n",
       "2012-02-24 09:50:00  0.307599  0.374522  0.001840  0.030601  0.101431   \n",
       "2012-03-27 10:10:00  0.237303  0.264122  0.001482  0.014741  0.070680   \n",
       "2012-03-27 14:10:00  0.265702  0.306287  0.000155  0.010549  0.066785   \n",
       "2012-04-10 14:10:00  0.209695  0.232821  0.000409  0.008389  0.063442   \n",
       "2012-04-11 12:50:00  0.230648  0.241801  0.000039  0.013066  0.064616   \n",
       "2012-05-03 16:10:00  0.371304  0.713999  0.000173  0.011454  0.058635   \n",
       "2012-05-07 14:10:00  0.370161  0.750800  0.000538  0.014409  0.078295   \n",
       "2012-05-08 12:50:00  0.283818  0.394815  0.000103  0.015326  0.084501   \n",
       "\n",
       "                          %50       %75       %95        max  \n",
       "quote_datetime                                                \n",
       "2012-02-24 09:50:00  0.189978  0.366928  0.911127   3.351730  \n",
       "2012-03-27 10:10:00  0.153551  0.308814  0.731986   2.488052  \n",
       "2012-03-27 14:10:00  0.172293  0.351501  0.775467   2.464123  \n",
       "2012-04-10 14:10:00  0.143885  0.279517  0.674965   1.734750  \n",
       "2012-04-11 12:50:00  0.142781  0.302760  0.703193   1.601363  \n",
       "2012-05-03 16:10:00  0.167248  0.440043  1.335852  12.991895  \n",
       "2012-05-07 14:10:00  0.197411  0.365035  1.155832   9.544945  \n",
       "2012-05-08 12:50:00  0.176593  0.344320  0.837842   4.311754  "
      ]
     },
     "execution_count": 90,
     "metadata": {},
     "output_type": "execute_result"
    }
   ],
   "source": [
    "df_fit"
   ]
  },
  {
   "cell_type": "code",
   "execution_count": null,
   "metadata": {},
   "outputs": [],
   "source": []
  }
 ],
 "metadata": {
  "kernelspec": {
   "display_name": "op-ds-cqZ6S183-py3.11",
   "language": "python",
   "name": "python3"
  },
  "language_info": {
   "codemirror_mode": {
    "name": "ipython",
    "version": 3
   },
   "file_extension": ".py",
   "mimetype": "text/x-python",
   "name": "python",
   "nbconvert_exporter": "python",
   "pygments_lexer": "ipython3",
   "version": "3.11.9"
  }
 },
 "nbformat": 4,
 "nbformat_minor": 2
}
