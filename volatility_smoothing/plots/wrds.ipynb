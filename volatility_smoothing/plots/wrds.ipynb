{
 "cells": [
  {
   "cell_type": "markdown",
   "metadata": {},
   "source": [
    "# Evaluate End-Of-Day Options Data (OptionMetrics via WRDS)"
   ]
  },
  {
   "cell_type": "code",
   "execution_count": 54,
   "metadata": {},
   "outputs": [],
   "source": [
    "import os\n",
    "\n",
    "import pandas as pd\n",
    "import matplotlib.pyplot as plt\n",
    "plt.rcParams['savefig.dpi'] = 300\n",
    "plt.rcParams['savefig.bbox'] = 'tight'\n",
    "import torch\n",
    "\n",
    "from op_ds.gno.gno import GNOLayer, GNO\n",
    "from op_ds.gno.kernel import NonlinearKernelTransformWithSkip\n",
    "from op_ds.utils.fnn import FNN\n",
    "from volatility_smoothing.utils.options_data import OptionsDataset\n",
    "from volatility_smoothing.utils.gno.train import Trainer\n",
    "from volatility_smoothing.utils.gno.dataset import GNOOptionsDataset"
   ]
  },
  {
   "cell_type": "markdown",
   "metadata": {},
   "source": [
    "## Create Dataset Class and Load"
   ]
  },
  {
   "cell_type": "code",
   "execution_count": 55,
   "metadata": {},
   "outputs": [],
   "source": [
    "class WRDSOptionsDataset(OptionsDataset):\n",
    "    \"\"\"Dataset for OptionsMetrics data as provided through the WRDS\n",
    "    \n",
    "    When downloading the options chain (for a specified index and a certain date range) from WRDS, be sure to include the following fields:\n",
    "    \n",
    "    * ``date``\n",
    "    * ``exdate``\n",
    "    * ``cp_flag``\n",
    "    * ``strike_price``\n",
    "    * ``best_bid``\n",
    "    * ``best_offer``\n",
    "    * ``am_settlement`` (to be able to discard weekly options)\n",
    "    \n",
    "    Then, place the generated csv-file into an apposite directory, and provide as ``data_dir`` during init.\n",
    "    \"\"\"\n",
    "    \n",
    "    @classmethod\n",
    "    def load_data(cls, data_dir: str) -> pd.DataFrame:\n",
    "        \"\"\"Load the options data contained in the WRDS csv-file\n",
    "\n",
    "        Parameters\n",
    "        ----------\n",
    "        data_dir\n",
    "            The directory in which the csv-file is placed (must be the only csv-file in this directory)\n",
    "\n",
    "        Returns\n",
    "        -------\n",
    "            The data frame with columns as described in the documentation of :meth:`OptionsDataset.load_data`\n",
    "\n",
    "        Raises\n",
    "        ------\n",
    "        FileNotFoundError\n",
    "            If no csv-file was found in ``data_dir``\n",
    "        ValueError\n",
    "            If there were multiple csv-files in ``data_dir``\n",
    "        \"\"\"\n",
    "\n",
    "        csv_files = [file for file in os.listdir(data_dir) if file.endswith('.csv')]\n",
    "        if len(csv_files) == 0:\n",
    "            raise FileNotFoundError(f\"No csv files found in {data_dir}\")\n",
    "        elif len(csv_files) > 1:\n",
    "            raise ValueError(f\"Multiple csv files found in {data_dir}\")\n",
    "        else:\n",
    "            filepath = os.path.join(data_dir, csv_files[0])\n",
    "       \n",
    "        col_names = {            \n",
    "            'date': 'quote_datetime',\n",
    "            'exdate': 'expiry_datetime',\n",
    "            'strike_price': 'strike',\n",
    "            'cp_flag': 'option_type',\n",
    "            'best_bid': 'bid',\n",
    "            'best_offer': 'ask'\n",
    "        }\n",
    "        data = (pd.read_csv(filepath, engine='python')\n",
    "            .query('am_settlement == 1')\n",
    "            .assign(strike_price=lambda df: df['strike_price'] / 1000)\n",
    "            .rename(columns=col_names)\n",
    "            .astype({'quote_datetime': 'datetime64[ns]', 'expiry_datetime': 'datetime64[ns]'})\n",
    "            .get(col_names.values()))\n",
    "\n",
    "        return data\n"
   ]
  },
  {
   "cell_type": "code",
   "execution_count": null,
   "metadata": {},
   "outputs": [],
   "source": [
    "spx_dir = \"../data/wrds/spx\"\n",
    "spx_dataset = WRDSOptionsDataset(spx_dir)\n",
    "spx_gno_dataset = GNOOptionsDataset(spx_dataset, subsample=False)"
   ]
  },
  {
   "cell_type": "markdown",
   "metadata": {},
   "source": [
    "## Model and Optimizer"
   ]
  },
  {
   "cell_type": "markdown",
   "metadata": {},
   "source": [
    "### Instantiate"
   ]
  },
  {
   "cell_type": "code",
   "execution_count": 57,
   "metadata": {},
   "outputs": [],
   "source": [
    "device = torch.device('cuda' if torch.cuda.is_available() else 'cpu')"
   ]
  },
  {
   "cell_type": "code",
   "execution_count": 58,
   "metadata": {},
   "outputs": [],
   "source": [
    "in_channels = 1\n",
    "out_channels = 1\n",
    "channels = (in_channels, 16, 16, 16, out_channels)\n",
    "spatial_dim = 2\n",
    "gno_channels = 16\n",
    "hidden_channels = 64\n",
    "\n",
    "gno_layers = []\n",
    "\n",
    "for i in range(m := (len(channels) - 1)):\n",
    "    lifting = FNN.from_config((channels[i], hidden_channels, gno_channels), hidden_activation='gelu', batch_norm=False)\n",
    "    projection = None if i < m - 1 else FNN.from_config((gno_channels, hidden_channels, channels[i+1]), hidden_activation='gelu', batch_norm=False)\n",
    "    transform = NonlinearKernelTransformWithSkip(in_channels=gno_channels, out_channels=gno_channels, skip_channels=in_channels, spatial_dim=spatial_dim, hidden_channels=(hidden_channels, hidden_channels), hidden_activation='gelu', batch_norm=False)\n",
    "\n",
    "    if i == 0:\n",
    "        local_linear = False\n",
    "    else:\n",
    "        local_linear = True\n",
    "        \n",
    "    activation = torch.nn.GELU() if i < m - 1 else torch.nn.Softplus(beta=0.5)\n",
    "        \n",
    "    gno_layer = GNOLayer(gno_channels, transform=transform, local_linear=local_linear, local_bias=True,\n",
    "                         activation=activation, lifting=lifting, projection=projection)\n",
    "    gno_layers.append(gno_layer)\n",
    "    \n",
    "gno = GNO(*gno_layers, in_channels=in_channels)"
   ]
  },
  {
   "cell_type": "code",
   "execution_count": 59,
   "metadata": {},
   "outputs": [],
   "source": [
    "optimizer = torch.optim.AdamW(gno.parameters())"
   ]
  },
  {
   "cell_type": "markdown",
   "metadata": {},
   "source": [
    "### Load Checkpoint"
   ]
  },
  {
   "cell_type": "code",
   "execution_count": 60,
   "metadata": {},
   "outputs": [],
   "source": [
    "def load_checkpoint(model, optimizer, path):\n",
    "    checkpoint = torch.load(path, map_location=device)\n",
    "    model.load_state_dict(checkpoint['model'])\n",
    "    optimizer.load_state_dict(checkpoint['optimizer'])\n",
    "    # logger.info(f\"Loaded checkpoint from {path}\")\n",
    "    return model, optimizer"
   ]
  },
  {
   "cell_type": "code",
   "execution_count": 61,
   "metadata": {},
   "outputs": [],
   "source": [
    "path = \"../train/store/9448705/checkpoints/checkpoint_final.pt\"\n",
    "gno, optimizer = load_checkpoint(gno, optimizer, path)"
   ]
  },
  {
   "cell_type": "markdown",
   "metadata": {},
   "source": [
    "## Evaluation"
   ]
  },
  {
   "cell_type": "code",
   "execution_count": 62,
   "metadata": {},
   "outputs": [],
   "source": [
    "step_r = 0.05\n",
    "step_z = 0.01\n",
    "trainer = Trainer(step_r=step_r, step_z=step_z)"
   ]
  },
  {
   "cell_type": "markdown",
   "metadata": {},
   "source": [
    "### Evaluate Dataset"
   ]
  },
  {
   "cell_type": "code",
   "execution_count": 63,
   "metadata": {},
   "outputs": [],
   "source": [
    "df_val, df_rel, df_fit, data_list = trainer.evaluate(gno, spx_gno_dataset, device=device)"
   ]
  },
  {
   "cell_type": "markdown",
   "metadata": {},
   "source": [
    "### Plots"
   ]
  },
  {
   "cell_type": "code",
   "execution_count": null,
   "metadata": {},
   "outputs": [],
   "source": [
    "i = 10\n",
    "trainer.plot_example(gno, spx_gno_dataset[i], nrows=5, ncols=2, figsize=(9, 14));"
   ]
  }
 ],
 "metadata": {
  "kernelspec": {
   "display_name": "operator-deep-smoothing-for-implied-volati-Lc0MA9F8-py3.11",
   "language": "python",
   "name": "python3"
  },
  "language_info": {
   "codemirror_mode": {
    "name": "ipython",
    "version": 3
   },
   "file_extension": ".py",
   "mimetype": "text/x-python",
   "name": "python",
   "nbconvert_exporter": "python",
   "pygments_lexer": "ipython3",
   "version": "3.11.9"
  }
 },
 "nbformat": 4,
 "nbformat_minor": 2
}
